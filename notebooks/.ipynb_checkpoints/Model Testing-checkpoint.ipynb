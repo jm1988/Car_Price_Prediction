{
 "cells": [
  {
   "cell_type": "code",
   "execution_count": 1,
   "metadata": {},
   "outputs": [],
   "source": [
    "import pandas as pd\n",
    "import pickle\n",
    "import numpy as np"
   ]
  },
  {
   "cell_type": "code",
   "execution_count": 2,
   "metadata": {},
   "outputs": [],
   "source": [
    "#Loading the model\n",
    "rf_pkl = open('../models/best_forest.pkl', 'rb')\n",
    "best_forest = pickle.load(rf_pkl)"
   ]
  },
  {
   "cell_type": "code",
   "execution_count": 3,
   "metadata": {},
   "outputs": [
    {
     "data": {
      "text/html": [
       "<div>\n",
       "<style scoped>\n",
       "    .dataframe tbody tr th:only-of-type {\n",
       "        vertical-align: middle;\n",
       "    }\n",
       "\n",
       "    .dataframe tbody tr th {\n",
       "        vertical-align: top;\n",
       "    }\n",
       "\n",
       "    .dataframe thead th {\n",
       "        text-align: right;\n",
       "    }\n",
       "</style>\n",
       "<table border=\"1\" class=\"dataframe\">\n",
       "  <thead>\n",
       "    <tr style=\"text-align: right;\">\n",
       "      <th></th>\n",
       "      <th>price</th>\n",
       "      <th>millage</th>\n",
       "      <th>location</th>\n",
       "      <th>year</th>\n",
       "      <th>make</th>\n",
       "      <th>model</th>\n",
       "      <th>city</th>\n",
       "      <th>state</th>\n",
       "      <th>accidents</th>\n",
       "      <th>owners</th>\n",
       "      <th>use</th>\n",
       "      <th>name</th>\n",
       "    </tr>\n",
       "  </thead>\n",
       "  <tbody>\n",
       "    <tr>\n",
       "      <th>0</th>\n",
       "      <td>13130</td>\n",
       "      <td>34770</td>\n",
       "      <td>Jersey City,  NJ</td>\n",
       "      <td>2019</td>\n",
       "      <td>Hyundai</td>\n",
       "      <td>Elantra</td>\n",
       "      <td>Jersey City</td>\n",
       "      <td>NJ</td>\n",
       "      <td>0</td>\n",
       "      <td>1.0</td>\n",
       "      <td>Personal</td>\n",
       "      <td>Hyundai Elantra</td>\n",
       "    </tr>\n",
       "    <tr>\n",
       "      <th>1</th>\n",
       "      <td>22990</td>\n",
       "      <td>53762</td>\n",
       "      <td>New York,  NY</td>\n",
       "      <td>2018</td>\n",
       "      <td>Honda</td>\n",
       "      <td>Accord</td>\n",
       "      <td>New York</td>\n",
       "      <td>NY</td>\n",
       "      <td>0</td>\n",
       "      <td>1.0</td>\n",
       "      <td>Personal</td>\n",
       "      <td>Honda Accord</td>\n",
       "    </tr>\n",
       "    <tr>\n",
       "      <th>2</th>\n",
       "      <td>15788</td>\n",
       "      <td>24317</td>\n",
       "      <td>Bronx,  NY</td>\n",
       "      <td>2019</td>\n",
       "      <td>Ford</td>\n",
       "      <td>Fusion</td>\n",
       "      <td>Bronx</td>\n",
       "      <td>NY</td>\n",
       "      <td>0</td>\n",
       "      <td>1.0</td>\n",
       "      <td>Personal</td>\n",
       "      <td>Ford Fusion</td>\n",
       "    </tr>\n",
       "  </tbody>\n",
       "</table>\n",
       "</div>"
      ],
      "text/plain": [
       "   price  millage          location  year     make    model         city  \\\n",
       "0  13130    34770  Jersey City,  NJ  2019  Hyundai  Elantra  Jersey City   \n",
       "1  22990    53762     New York,  NY  2018    Honda   Accord     New York   \n",
       "2  15788    24317        Bronx,  NY  2019     Ford   Fusion        Bronx   \n",
       "\n",
       "  state  accidents  owners       use             name  \n",
       "0    NJ          0     1.0  Personal  Hyundai Elantra  \n",
       "1    NY          0     1.0  Personal     Honda Accord  \n",
       "2    NY          0     1.0  Personal      Ford Fusion  "
      ]
     },
     "execution_count": 3,
     "metadata": {},
     "output_type": "execute_result"
    }
   ],
   "source": [
    "#Loading some sample data:\n",
    "df = pd.read_csv('../data/explored_data.csv')\n",
    "df.head(3)"
   ]
  },
  {
   "cell_type": "code",
   "execution_count": 4,
   "metadata": {},
   "outputs": [
    {
     "data": {
      "text/html": [
       "<div>\n",
       "<style scoped>\n",
       "    .dataframe tbody tr th:only-of-type {\n",
       "        vertical-align: middle;\n",
       "    }\n",
       "\n",
       "    .dataframe tbody tr th {\n",
       "        vertical-align: top;\n",
       "    }\n",
       "\n",
       "    .dataframe thead th {\n",
       "        text-align: right;\n",
       "    }\n",
       "</style>\n",
       "<table border=\"1\" class=\"dataframe\">\n",
       "  <thead>\n",
       "    <tr style=\"text-align: right;\">\n",
       "      <th></th>\n",
       "      <th>millage</th>\n",
       "      <th>year</th>\n",
       "      <th>location</th>\n",
       "      <th>name</th>\n",
       "      <th>accidents</th>\n",
       "      <th>owners</th>\n",
       "      <th>use</th>\n",
       "    </tr>\n",
       "  </thead>\n",
       "  <tbody>\n",
       "    <tr>\n",
       "      <th>0</th>\n",
       "      <td>34770</td>\n",
       "      <td>2019</td>\n",
       "      <td>Jersey City,  NJ</td>\n",
       "      <td>Hyundai Elantra</td>\n",
       "      <td>0</td>\n",
       "      <td>1.0</td>\n",
       "      <td>Personal</td>\n",
       "    </tr>\n",
       "    <tr>\n",
       "      <th>1</th>\n",
       "      <td>53762</td>\n",
       "      <td>2018</td>\n",
       "      <td>New York,  NY</td>\n",
       "      <td>Honda Accord</td>\n",
       "      <td>0</td>\n",
       "      <td>1.0</td>\n",
       "      <td>Personal</td>\n",
       "    </tr>\n",
       "    <tr>\n",
       "      <th>2</th>\n",
       "      <td>24317</td>\n",
       "      <td>2019</td>\n",
       "      <td>Bronx,  NY</td>\n",
       "      <td>Ford Fusion</td>\n",
       "      <td>0</td>\n",
       "      <td>1.0</td>\n",
       "      <td>Personal</td>\n",
       "    </tr>\n",
       "    <tr>\n",
       "      <th>3</th>\n",
       "      <td>146988</td>\n",
       "      <td>2007</td>\n",
       "      <td>Brooklyn,  NY</td>\n",
       "      <td>BMW X3</td>\n",
       "      <td>2</td>\n",
       "      <td>4.0</td>\n",
       "      <td>Fleet</td>\n",
       "    </tr>\n",
       "    <tr>\n",
       "      <th>4</th>\n",
       "      <td>92136</td>\n",
       "      <td>2010</td>\n",
       "      <td>Brooklyn,  NY</td>\n",
       "      <td>Dodge Journey</td>\n",
       "      <td>0</td>\n",
       "      <td>3.0</td>\n",
       "      <td>Fleet</td>\n",
       "    </tr>\n",
       "  </tbody>\n",
       "</table>\n",
       "</div>"
      ],
      "text/plain": [
       "   millage  year          location             name  accidents  owners  \\\n",
       "0    34770  2019  Jersey City,  NJ  Hyundai Elantra          0     1.0   \n",
       "1    53762  2018     New York,  NY     Honda Accord          0     1.0   \n",
       "2    24317  2019        Bronx,  NY      Ford Fusion          0     1.0   \n",
       "3   146988  2007     Brooklyn,  NY           BMW X3          2     4.0   \n",
       "4    92136  2010     Brooklyn,  NY    Dodge Journey          0     3.0   \n",
       "\n",
       "        use  \n",
       "0  Personal  \n",
       "1  Personal  \n",
       "2  Personal  \n",
       "3     Fleet  \n",
       "4     Fleet  "
      ]
     },
     "execution_count": 4,
     "metadata": {},
     "output_type": "execute_result"
    }
   ],
   "source": [
    "xtest = df[['millage','year','location','name','accidents', 'owners','use']]\n",
    "xtest.head()"
   ]
  },
  {
   "cell_type": "code",
   "execution_count": 5,
   "metadata": {},
   "outputs": [],
   "source": [
    "#Transformation function:"
   ]
  },
  {
   "cell_type": "code",
   "execution_count": 18,
   "metadata": {},
   "outputs": [],
   "source": [
    "from encoders import city_enc, make_enc\n",
    "sc_pkl = open('../models/Fscaler.pkl', 'rb')\n",
    "scaler = pickle.load(sc_pkl)\n",
    "\n",
    "def car_preproc(x):\n",
    "    '''\n",
    "    x = dictionary with the features as keys\n",
    "    \n",
    "    '''\n",
    "    y = x.copy()\n",
    "    \n",
    "\n",
    "    #Encoders\n",
    "    city_encoder = city_enc\n",
    "    make_encoder = make_enc \n",
    "    \n",
    "    if y['use'] == 'Personal':\n",
    "        y['use'] = 1\n",
    "    else: y['use'] = 0   \n",
    "    \n",
    "    y['location'] = city_encoder[y['location']]\n",
    "    y['name'] = make_encoder[y['name']]   \n",
    "    \n",
    "    cols = ['millage', 'location', 'year', 'accidents', 'owners', 'use', 'name']\n",
    "    \n",
    "    for k in cols:\n",
    "        y[k] = (y[k] -  scaler.loc[k,'mean'])/scaler.loc['millage','std']    \n",
    "\n",
    "#     y['millage'] = (y['millage'] - mill_mu) / mill_sigma\n",
    "#     y['make'] = (y['make'] - make_mu) / make_sigma\n",
    "\n",
    "    return y"
   ]
  },
  {
   "cell_type": "code",
   "execution_count": 15,
   "metadata": {},
   "outputs": [],
   "source": [
    "user_input = {'millage': 53762,\n",
    "             'year': 2018,\n",
    "             'name': 'Honda Civic',\n",
    "             'location': 'Jersey City,  NJ',\n",
    "             'accidents': 0,\n",
    "             'owners': 1.0,\n",
    "             'use': 'Personal'}"
   ]
  },
  {
   "cell_type": "code",
   "execution_count": 19,
   "metadata": {},
   "outputs": [
    {
     "data": {
      "text/plain": [
       "{'millage': -0.03770687551508417,\n",
       " 'year': 6.184360388040405e-05,\n",
       " 'name': -0.1781873444120005,\n",
       " 'location': 1.209708763879325e-06,\n",
       " 'accidents': -6.8451550596390786e-06,\n",
       " 'owners': -1.4232500619051549e-05,\n",
       " 'use': 3.6936727797062352e-06}"
      ]
     },
     "execution_count": 19,
     "metadata": {},
     "output_type": "execute_result"
    }
   ],
   "source": [
    "model_input = car_preproc(user_input)\n",
    "model_input"
   ]
  },
  {
   "cell_type": "code",
   "execution_count": null,
   "metadata": {},
   "outputs": [],
   "source": [
    "model_input"
   ]
  },
  {
   "cell_type": "code",
   "execution_count": 20,
   "metadata": {},
   "outputs": [
    {
     "data": {
      "text/plain": [
       "'20,086.71'"
      ]
     },
     "execution_count": 20,
     "metadata": {},
     "output_type": "execute_result"
    }
   ],
   "source": [
    "\"{:0,.2f}\".format(np.round(best_forest.predict(np.array(list(model_input.values())).reshape(1,-1))[0],2))"
   ]
  },
  {
   "cell_type": "code",
   "execution_count": null,
   "metadata": {},
   "outputs": [],
   "source": [
    "#Convert to currency format, excample 35750  to 35,750.00\n",
    "\"{:0,.2f}\".format(float(35750))"
   ]
  },
  {
   "cell_type": "code",
   "execution_count": null,
   "metadata": {},
   "outputs": [],
   "source": []
  },
  {
   "cell_type": "code",
   "execution_count": null,
   "metadata": {},
   "outputs": [],
   "source": []
  }
 ],
 "metadata": {
  "kernelspec": {
   "display_name": "Python 3",
   "language": "python",
   "name": "python3"
  },
  "language_info": {
   "codemirror_mode": {
    "name": "ipython",
    "version": 3
   },
   "file_extension": ".py",
   "mimetype": "text/x-python",
   "name": "python",
   "nbconvert_exporter": "python",
   "pygments_lexer": "ipython3",
   "version": "3.8.3"
  }
 },
 "nbformat": 4,
 "nbformat_minor": 4
}
