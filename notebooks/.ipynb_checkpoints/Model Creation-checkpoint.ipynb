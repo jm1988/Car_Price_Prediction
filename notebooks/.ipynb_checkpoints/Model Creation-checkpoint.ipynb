{
 "cells": [
  {
   "cell_type": "code",
   "execution_count": 47,
   "metadata": {},
   "outputs": [],
   "source": [
    "import pandas as pd\n",
    "import numpy as np\n",
    "import matplotlib.pyplot as plt\n",
    "import seaborn as sns\n",
    "# Disable this warning as I am overwritting the reference of the orginal data frame\n",
    "pd.options.mode.chained_assignment = None  # default='warn'"
   ]
  },
  {
   "cell_type": "code",
   "execution_count": 48,
   "metadata": {},
   "outputs": [],
   "source": [
    "df = pd.read_csv('../data/explored_data.csv')\n",
    "#Dropping make, model, state and city\n",
    "df.drop(['make','model','state','city'], axis=1, inplace=True)"
   ]
  },
  {
   "cell_type": "code",
   "execution_count": 49,
   "metadata": {},
   "outputs": [
    {
     "data": {
      "text/html": [
       "<div>\n",
       "<style scoped>\n",
       "    .dataframe tbody tr th:only-of-type {\n",
       "        vertical-align: middle;\n",
       "    }\n",
       "\n",
       "    .dataframe tbody tr th {\n",
       "        vertical-align: top;\n",
       "    }\n",
       "\n",
       "    .dataframe thead th {\n",
       "        text-align: right;\n",
       "    }\n",
       "</style>\n",
       "<table border=\"1\" class=\"dataframe\">\n",
       "  <thead>\n",
       "    <tr style=\"text-align: right;\">\n",
       "      <th></th>\n",
       "      <th>price</th>\n",
       "      <th>millage</th>\n",
       "      <th>location</th>\n",
       "      <th>year</th>\n",
       "      <th>accidents</th>\n",
       "      <th>owners</th>\n",
       "      <th>use</th>\n",
       "      <th>name</th>\n",
       "    </tr>\n",
       "  </thead>\n",
       "  <tbody>\n",
       "    <tr>\n",
       "      <th>0</th>\n",
       "      <td>13130</td>\n",
       "      <td>34770</td>\n",
       "      <td>Jersey City,  NJ</td>\n",
       "      <td>2019</td>\n",
       "      <td>0</td>\n",
       "      <td>1.0</td>\n",
       "      <td>Personal</td>\n",
       "      <td>Hyundai Elantra</td>\n",
       "    </tr>\n",
       "    <tr>\n",
       "      <th>1</th>\n",
       "      <td>22990</td>\n",
       "      <td>53762</td>\n",
       "      <td>New York,  NY</td>\n",
       "      <td>2018</td>\n",
       "      <td>0</td>\n",
       "      <td>1.0</td>\n",
       "      <td>Personal</td>\n",
       "      <td>Honda Accord</td>\n",
       "    </tr>\n",
       "    <tr>\n",
       "      <th>2</th>\n",
       "      <td>15788</td>\n",
       "      <td>24317</td>\n",
       "      <td>Bronx,  NY</td>\n",
       "      <td>2019</td>\n",
       "      <td>0</td>\n",
       "      <td>1.0</td>\n",
       "      <td>Personal</td>\n",
       "      <td>Ford Fusion</td>\n",
       "    </tr>\n",
       "    <tr>\n",
       "      <th>3</th>\n",
       "      <td>4950</td>\n",
       "      <td>146988</td>\n",
       "      <td>Brooklyn,  NY</td>\n",
       "      <td>2007</td>\n",
       "      <td>2</td>\n",
       "      <td>4.0</td>\n",
       "      <td>Fleet</td>\n",
       "      <td>BMW X3</td>\n",
       "    </tr>\n",
       "    <tr>\n",
       "      <th>4</th>\n",
       "      <td>4950</td>\n",
       "      <td>92136</td>\n",
       "      <td>Brooklyn,  NY</td>\n",
       "      <td>2010</td>\n",
       "      <td>0</td>\n",
       "      <td>3.0</td>\n",
       "      <td>Fleet</td>\n",
       "      <td>Dodge Journey</td>\n",
       "    </tr>\n",
       "  </tbody>\n",
       "</table>\n",
       "</div>"
      ],
      "text/plain": [
       "   price  millage          location  year  accidents  owners       use  \\\n",
       "0  13130    34770  Jersey City,  NJ  2019          0     1.0  Personal   \n",
       "1  22990    53762     New York,  NY  2018          0     1.0  Personal   \n",
       "2  15788    24317        Bronx,  NY  2019          0     1.0  Personal   \n",
       "3   4950   146988     Brooklyn,  NY  2007          2     4.0     Fleet   \n",
       "4   4950    92136     Brooklyn,  NY  2010          0     3.0     Fleet   \n",
       "\n",
       "              name  \n",
       "0  Hyundai Elantra  \n",
       "1     Honda Accord  \n",
       "2      Ford Fusion  \n",
       "3           BMW X3  \n",
       "4    Dodge Journey  "
      ]
     },
     "execution_count": 49,
     "metadata": {},
     "output_type": "execute_result"
    }
   ],
   "source": [
    "df.head()"
   ]
  },
  {
   "cell_type": "code",
   "execution_count": 50,
   "metadata": {},
   "outputs": [
    {
     "name": "stdout",
     "output_type": "stream",
     "text": [
      "(693, 7)\n",
      "(297, 7)\n"
     ]
    }
   ],
   "source": [
    "#Creating the training and test sets\n",
    "from sklearn.model_selection import train_test_split\n",
    "X = df.drop('price', axis=1)\n",
    "y = df['price']\n",
    "\n",
    "X_train, X_test, y_train, y_test = train_test_split(X, y, test_size=0.30, random_state=40)\n",
    "print(X_train.shape); print(X_test.shape)"
   ]
  },
  {
   "cell_type": "markdown",
   "metadata": {},
   "source": [
    "### Features Preprocessing"
   ]
  },
  {
   "cell_type": "code",
   "execution_count": 51,
   "metadata": {},
   "outputs": [
    {
     "data": {
      "text/html": [
       "<div>\n",
       "<style scoped>\n",
       "    .dataframe tbody tr th:only-of-type {\n",
       "        vertical-align: middle;\n",
       "    }\n",
       "\n",
       "    .dataframe tbody tr th {\n",
       "        vertical-align: top;\n",
       "    }\n",
       "\n",
       "    .dataframe thead th {\n",
       "        text-align: right;\n",
       "    }\n",
       "</style>\n",
       "<table border=\"1\" class=\"dataframe\">\n",
       "  <thead>\n",
       "    <tr style=\"text-align: right;\">\n",
       "      <th></th>\n",
       "      <th>location</th>\n",
       "      <th>use</th>\n",
       "      <th>name</th>\n",
       "    </tr>\n",
       "  </thead>\n",
       "  <tbody>\n",
       "    <tr>\n",
       "      <th>count</th>\n",
       "      <td>693</td>\n",
       "      <td>693</td>\n",
       "      <td>693</td>\n",
       "    </tr>\n",
       "    <tr>\n",
       "      <th>unique</th>\n",
       "      <td>68</td>\n",
       "      <td>2</td>\n",
       "      <td>194</td>\n",
       "    </tr>\n",
       "    <tr>\n",
       "      <th>top</th>\n",
       "      <td>New York,  NY</td>\n",
       "      <td>Personal</td>\n",
       "      <td>Honda Accord</td>\n",
       "    </tr>\n",
       "    <tr>\n",
       "      <th>freq</th>\n",
       "      <td>127</td>\n",
       "      <td>584</td>\n",
       "      <td>32</td>\n",
       "    </tr>\n",
       "  </tbody>\n",
       "</table>\n",
       "</div>"
      ],
      "text/plain": [
       "             location       use          name\n",
       "count             693       693           693\n",
       "unique             68         2           194\n",
       "top     New York,  NY  Personal  Honda Accord\n",
       "freq              127       584            32"
      ]
     },
     "execution_count": 51,
     "metadata": {},
     "output_type": "execute_result"
    }
   ],
   "source": [
    "# Categorical Encoding:\n",
    "X_train.describe(include=np.object)"
   ]
  },
  {
   "cell_type": "code",
   "execution_count": 52,
   "metadata": {},
   "outputs": [],
   "source": [
    "#It seems that use has only 2 possible categories we can use one hot encoding to encode this features.\n",
    "from sklearn.preprocessing import OneHotEncoder\n",
    "enc_use = OneHotEncoder(drop='first', )\n",
    "X_train.loc[:,'use'] = enc_use.fit_transform(X_train[['use']]).toarray()\n",
    "#Where 1 = personal and 0 = fleet\n"
   ]
  },
  {
   "cell_type": "code",
   "execution_count": 53,
   "metadata": {},
   "outputs": [],
   "source": [
    "#For location and name the numbers seems high if I have to one hot encode those it will generate 113 extra columns total.\n",
    "#Instead I'll use a different strategy:\n",
    "#For location I'll use frequency encoding replacing the names with the frequency proportion in the train test; assuming this is true in the whole data set.\n",
    "city_encoder = dict(X_train['location'].value_counts()/len(X_train))\n",
    "X_train['location'] = X_train['location'].map(city_encoder)"
   ]
  },
  {
   "cell_type": "code",
   "execution_count": 54,
   "metadata": {},
   "outputs": [],
   "source": [
    "#For make I'll use mean encoding; this is assigning the mean price for the car name everytime it shows in the data.\n",
    "make_encode = dict(pd.concat([X_train,y_train], axis=1).groupby('name')['price'].mean())\n",
    "X_train['name'] = X_train['name'].map(make_encode)"
   ]
  },
  {
   "cell_type": "markdown",
   "metadata": {},
   "source": [
    "### Features Scaling"
   ]
  },
  {
   "cell_type": "code",
   "execution_count": 55,
   "metadata": {},
   "outputs": [],
   "source": [
    "#Lets scale the features using standard scaler\n",
    "# Z = x-u/s\n",
    "cols = list(X_train.columns)\n",
    "\n",
    "for c in cols:    \n",
    "    u = X_train[c].mean()\n",
    "    s = X_train[c].std()    \n",
    "    X_train[c] = (X_train[c] - u)/s"
   ]
  },
  {
   "cell_type": "code",
   "execution_count": 56,
   "metadata": {},
   "outputs": [
    {
     "data": {
      "text/html": [
       "<div>\n",
       "<style scoped>\n",
       "    .dataframe tbody tr th:only-of-type {\n",
       "        vertical-align: middle;\n",
       "    }\n",
       "\n",
       "    .dataframe tbody tr th {\n",
       "        vertical-align: top;\n",
       "    }\n",
       "\n",
       "    .dataframe thead th {\n",
       "        text-align: right;\n",
       "    }\n",
       "</style>\n",
       "<table border=\"1\" class=\"dataframe\">\n",
       "  <thead>\n",
       "    <tr style=\"text-align: right;\">\n",
       "      <th></th>\n",
       "      <th>millage</th>\n",
       "      <th>location</th>\n",
       "      <th>year</th>\n",
       "      <th>accidents</th>\n",
       "      <th>owners</th>\n",
       "      <th>use</th>\n",
       "      <th>name</th>\n",
       "    </tr>\n",
       "  </thead>\n",
       "  <tbody>\n",
       "    <tr>\n",
       "      <th>559</th>\n",
       "      <td>-0.500170</td>\n",
       "      <td>1.772508</td>\n",
       "      <td>0.664492</td>\n",
       "      <td>-0.426569</td>\n",
       "      <td>-0.604553</td>\n",
       "      <td>0.431711</td>\n",
       "      <td>0.181943</td>\n",
       "    </tr>\n",
       "    <tr>\n",
       "      <th>388</th>\n",
       "      <td>-0.453438</td>\n",
       "      <td>1.772508</td>\n",
       "      <td>-1.101783</td>\n",
       "      <td>1.036859</td>\n",
       "      <td>1.390473</td>\n",
       "      <td>0.431711</td>\n",
       "      <td>-0.569103</td>\n",
       "    </tr>\n",
       "    <tr>\n",
       "      <th>129</th>\n",
       "      <td>1.372485</td>\n",
       "      <td>-0.322112</td>\n",
       "      <td>-0.597133</td>\n",
       "      <td>-0.426569</td>\n",
       "      <td>0.392960</td>\n",
       "      <td>0.431711</td>\n",
       "      <td>-0.373604</td>\n",
       "    </tr>\n",
       "    <tr>\n",
       "      <th>594</th>\n",
       "      <td>1.316007</td>\n",
       "      <td>-1.065364</td>\n",
       "      <td>0.159842</td>\n",
       "      <td>-0.426569</td>\n",
       "      <td>0.392960</td>\n",
       "      <td>0.431711</td>\n",
       "      <td>-0.379208</td>\n",
       "    </tr>\n",
       "    <tr>\n",
       "      <th>797</th>\n",
       "      <td>-0.698466</td>\n",
       "      <td>-0.975273</td>\n",
       "      <td>0.412167</td>\n",
       "      <td>-0.426569</td>\n",
       "      <td>-0.604553</td>\n",
       "      <td>0.431711</td>\n",
       "      <td>0.019670</td>\n",
       "    </tr>\n",
       "  </tbody>\n",
       "</table>\n",
       "</div>"
      ],
      "text/plain": [
       "      millage  location      year  accidents    owners       use      name\n",
       "559 -0.500170  1.772508  0.664492  -0.426569 -0.604553  0.431711  0.181943\n",
       "388 -0.453438  1.772508 -1.101783   1.036859  1.390473  0.431711 -0.569103\n",
       "129  1.372485 -0.322112 -0.597133  -0.426569  0.392960  0.431711 -0.373604\n",
       "594  1.316007 -1.065364  0.159842  -0.426569  0.392960  0.431711 -0.379208\n",
       "797 -0.698466 -0.975273  0.412167  -0.426569 -0.604553  0.431711  0.019670"
      ]
     },
     "execution_count": 56,
     "metadata": {},
     "output_type": "execute_result"
    }
   ],
   "source": [
    "# And this is How the data looks preproccesed.\n",
    "X_train.head()"
   ]
  },
  {
   "cell_type": "code",
   "execution_count": 57,
   "metadata": {},
   "outputs": [],
   "source": [
    "# Creating at script that facilitate the preprocessing for new data:\n",
    "def car_preproc(df):\n",
    "    data_set = df.copy()\n",
    "    from sklearn.preprocessing import OneHotEncoder   \n",
    "   \n",
    "    \n",
    "    enc_use = OneHotEncoder(drop='first', )\n",
    "    data_set.loc[:,'use'] = enc_use.fit_transform(data_set[['use']]).toarray()\n",
    "    #Where 1 = personal and 0 = fleet\n",
    "    city_encoder = dict(data_set['location'].value_counts()/len(data_set))\n",
    "    data_set['location'] = data_set['location'].map(city_encoder).fillna(0,axis=0)\n",
    "    \n",
    "    # Add condition in case the city and the make does not show, to be equal to zero.    \n",
    "    data_set['name'] = data_set['name'].map(make_encode).fillna(0,axis=0)\n",
    "    \n",
    "    cols = list(X_train.columns)\n",
    "\n",
    "    for c in cols:    \n",
    "        u = data_set[c].mean()\n",
    "        s = data_set[c].std()    \n",
    "        data_set[c] = (data_set[c] - u)/s\n",
    "    \n",
    "    return data_set"
   ]
  },
  {
   "cell_type": "markdown",
   "metadata": {},
   "source": [
    "### Model Building and Evalution"
   ]
  },
  {
   "cell_type": "code",
   "execution_count": 58,
   "metadata": {},
   "outputs": [],
   "source": [
    "# Preproccesing test set:\n",
    "X_test = car_preproc(X_test)"
   ]
  },
  {
   "cell_type": "code",
   "execution_count": 59,
   "metadata": {},
   "outputs": [
    {
     "data": {
      "text/html": [
       "<div>\n",
       "<style scoped>\n",
       "    .dataframe tbody tr th:only-of-type {\n",
       "        vertical-align: middle;\n",
       "    }\n",
       "\n",
       "    .dataframe tbody tr th {\n",
       "        vertical-align: top;\n",
       "    }\n",
       "\n",
       "    .dataframe thead th {\n",
       "        text-align: right;\n",
       "    }\n",
       "</style>\n",
       "<table border=\"1\" class=\"dataframe\">\n",
       "  <thead>\n",
       "    <tr style=\"text-align: right;\">\n",
       "      <th></th>\n",
       "      <th>millage</th>\n",
       "      <th>location</th>\n",
       "      <th>year</th>\n",
       "      <th>accidents</th>\n",
       "      <th>owners</th>\n",
       "      <th>use</th>\n",
       "      <th>name</th>\n",
       "    </tr>\n",
       "  </thead>\n",
       "  <tbody>\n",
       "    <tr>\n",
       "      <th>463</th>\n",
       "      <td>-0.388639</td>\n",
       "      <td>1.425833</td>\n",
       "      <td>0.906485</td>\n",
       "      <td>-0.381205</td>\n",
       "      <td>-0.561652</td>\n",
       "      <td>0.421865</td>\n",
       "      <td>-0.586969</td>\n",
       "    </tr>\n",
       "    <tr>\n",
       "      <th>272</th>\n",
       "      <td>-1.105354</td>\n",
       "      <td>1.425833</td>\n",
       "      <td>0.906485</td>\n",
       "      <td>-0.381205</td>\n",
       "      <td>-0.561652</td>\n",
       "      <td>0.421865</td>\n",
       "      <td>1.234323</td>\n",
       "    </tr>\n",
       "    <tr>\n",
       "      <th>42</th>\n",
       "      <td>-0.813106</td>\n",
       "      <td>0.954260</td>\n",
       "      <td>0.906485</td>\n",
       "      <td>-0.381205</td>\n",
       "      <td>-0.561652</td>\n",
       "      <td>0.421865</td>\n",
       "      <td>-0.341076</td>\n",
       "    </tr>\n",
       "    <tr>\n",
       "      <th>894</th>\n",
       "      <td>-0.480546</td>\n",
       "      <td>-0.760550</td>\n",
       "      <td>0.363691</td>\n",
       "      <td>-0.381205</td>\n",
       "      <td>-0.561652</td>\n",
       "      <td>0.421865</td>\n",
       "      <td>-1.281178</td>\n",
       "    </tr>\n",
       "    <tr>\n",
       "      <th>239</th>\n",
       "      <td>-1.150160</td>\n",
       "      <td>1.425833</td>\n",
       "      <td>0.363691</td>\n",
       "      <td>-0.381205</td>\n",
       "      <td>0.349882</td>\n",
       "      <td>0.421865</td>\n",
       "      <td>6.995616</td>\n",
       "    </tr>\n",
       "    <tr>\n",
       "      <th>...</th>\n",
       "      <td>...</td>\n",
       "      <td>...</td>\n",
       "      <td>...</td>\n",
       "      <td>...</td>\n",
       "      <td>...</td>\n",
       "      <td>...</td>\n",
       "      <td>...</td>\n",
       "    </tr>\n",
       "    <tr>\n",
       "      <th>737</th>\n",
       "      <td>3.030549</td>\n",
       "      <td>-1.103512</td>\n",
       "      <td>-2.893077</td>\n",
       "      <td>-0.381205</td>\n",
       "      <td>2.172951</td>\n",
       "      <td>0.421865</td>\n",
       "      <td>-1.281178</td>\n",
       "    </tr>\n",
       "    <tr>\n",
       "      <th>602</th>\n",
       "      <td>1.721520</td>\n",
       "      <td>-0.717680</td>\n",
       "      <td>0.363691</td>\n",
       "      <td>-0.381205</td>\n",
       "      <td>-0.561652</td>\n",
       "      <td>0.421865</td>\n",
       "      <td>-0.392642</td>\n",
       "    </tr>\n",
       "    <tr>\n",
       "      <th>893</th>\n",
       "      <td>-0.624540</td>\n",
       "      <td>-0.932031</td>\n",
       "      <td>0.635088</td>\n",
       "      <td>-0.381205</td>\n",
       "      <td>-0.561652</td>\n",
       "      <td>0.421865</td>\n",
       "      <td>0.645147</td>\n",
       "    </tr>\n",
       "    <tr>\n",
       "      <th>53</th>\n",
       "      <td>-0.384941</td>\n",
       "      <td>0.954260</td>\n",
       "      <td>0.906485</td>\n",
       "      <td>-0.381205</td>\n",
       "      <td>-0.561652</td>\n",
       "      <td>0.421865</td>\n",
       "      <td>-0.270891</td>\n",
       "    </tr>\n",
       "    <tr>\n",
       "      <th>154</th>\n",
       "      <td>0.030419</td>\n",
       "      <td>-0.031756</td>\n",
       "      <td>0.363691</td>\n",
       "      <td>-0.381205</td>\n",
       "      <td>-0.561652</td>\n",
       "      <td>0.421865</td>\n",
       "      <td>-0.369131</td>\n",
       "    </tr>\n",
       "  </tbody>\n",
       "</table>\n",
       "<p>297 rows × 7 columns</p>\n",
       "</div>"
      ],
      "text/plain": [
       "      millage  location      year  accidents    owners       use      name\n",
       "463 -0.388639  1.425833  0.906485  -0.381205 -0.561652  0.421865 -0.586969\n",
       "272 -1.105354  1.425833  0.906485  -0.381205 -0.561652  0.421865  1.234323\n",
       "42  -0.813106  0.954260  0.906485  -0.381205 -0.561652  0.421865 -0.341076\n",
       "894 -0.480546 -0.760550  0.363691  -0.381205 -0.561652  0.421865 -1.281178\n",
       "239 -1.150160  1.425833  0.363691  -0.381205  0.349882  0.421865  6.995616\n",
       "..        ...       ...       ...        ...       ...       ...       ...\n",
       "737  3.030549 -1.103512 -2.893077  -0.381205  2.172951  0.421865 -1.281178\n",
       "602  1.721520 -0.717680  0.363691  -0.381205 -0.561652  0.421865 -0.392642\n",
       "893 -0.624540 -0.932031  0.635088  -0.381205 -0.561652  0.421865  0.645147\n",
       "53  -0.384941  0.954260  0.906485  -0.381205 -0.561652  0.421865 -0.270891\n",
       "154  0.030419 -0.031756  0.363691  -0.381205 -0.561652  0.421865 -0.369131\n",
       "\n",
       "[297 rows x 7 columns]"
      ]
     },
     "execution_count": 59,
     "metadata": {},
     "output_type": "execute_result"
    }
   ],
   "source": [
    "X_test"
   ]
  },
  {
   "cell_type": "code",
   "execution_count": 60,
   "metadata": {},
   "outputs": [],
   "source": [
    "#Importing evaluation metrics\n",
    "from sklearn.metrics import mean_squared_error, r2_score, mean_absolute_error\n",
    "from sklearn.model_selection import cross_val_score"
   ]
  },
  {
   "cell_type": "code",
   "execution_count": 61,
   "metadata": {},
   "outputs": [
    {
     "name": "stdout",
     "output_type": "stream",
     "text": [
      "9144.744749453448\n",
      "0.3034487711603354\n",
      "-3899.6274368566046\n"
     ]
    }
   ],
   "source": [
    "# Using Linear Regression\n",
    "from sklearn.linear_model import LinearRegression\n",
    "lr = LinearRegression()\n",
    "lr.fit(X_train, y_train)\n",
    "\n",
    "pred_test_lr= lr.predict(X_test)\n",
    "print(mean_absolute_error(y_test,pred_test_lr)) \n",
    "print(r2_score(y_test, pred_test_lr))\n",
    "print(cross_val_score(lr, X_train, y_train, cv=10, scoring='neg_mean_absolute_error').mean())"
   ]
  },
  {
   "cell_type": "code",
   "execution_count": 62,
   "metadata": {},
   "outputs": [
    {
     "name": "stdout",
     "output_type": "stream",
     "text": [
      "9133.393598483342\n",
      "0.30495212757947\n",
      "-3900.6409911206356\n"
     ]
    }
   ],
   "source": [
    "#Ridge Regression alpha = 0.01\n",
    "from sklearn.linear_model import Ridge\n",
    "rr = Ridge(alpha=0.9)\n",
    "rr.fit(X_train, y_train) \n",
    "\n",
    "pred_test_rr= rr.predict(X_test)\n",
    "print(mean_absolute_error(y_test,pred_test_rr)) \n",
    "print(r2_score(y_test, pred_test_rr))\n",
    "print(cross_val_score(rr, X_train, y_train, cv=10, scoring='neg_mean_absolute_error').mean())"
   ]
  },
  {
   "cell_type": "code",
   "execution_count": 63,
   "metadata": {},
   "outputs": [
    {
     "name": "stdout",
     "output_type": "stream",
     "text": [
      "9144.6714312337\n",
      "0.3034574832443112\n",
      "-3899.5920428144855\n"
     ]
    }
   ],
   "source": [
    "#Lasson Regression = 0.01\n",
    "from sklearn.linear_model import Lasso\n",
    "ls = Lasso(alpha=0.1)\n",
    "ls.fit(X_train, y_train) \n",
    "\n",
    "pred_test_lasso= ls.predict(X_test)\n",
    "print(mean_absolute_error(y_test,pred_test_lasso)) \n",
    "print(r2_score(y_test, pred_test_lasso))\n",
    "print(cross_val_score(ls, X_train, y_train, cv=10, scoring='neg_mean_absolute_error').mean())"
   ]
  },
  {
   "cell_type": "code",
   "execution_count": 64,
   "metadata": {},
   "outputs": [
    {
     "name": "stdout",
     "output_type": "stream",
     "text": [
      "6999.993063973064\n",
      "0.5526452186006175\n",
      "-2928.3682598343685\n"
     ]
    }
   ],
   "source": [
    "#Using random forest\n",
    "from sklearn.ensemble import RandomForestRegressor\n",
    "rf = RandomForestRegressor(n_estimators=100, random_state=0)\n",
    "rf.fit(X_train,y_train)\n",
    "pred_rf = rf.predict(X_test)\n",
    "print(mean_absolute_error(y_test,pred_rf)) \n",
    "print(r2_score(y_test, pred_rf))\n",
    "print(cross_val_score(rf, X_train, y_train, cv=10, scoring='neg_mean_absolute_error').mean())"
   ]
  },
  {
   "cell_type": "code",
   "execution_count": 65,
   "metadata": {},
   "outputs": [
    {
     "data": {
      "text/plain": [
       "GridSearchCV(estimator=RandomForestRegressor(random_state=0),\n",
       "             param_grid={'criterion': ('mse', 'mae'),\n",
       "                         'n_estimators': range(10, 200, 5),\n",
       "                         'random_state': [0]},\n",
       "             scoring='neg_mean_absolute_error')"
      ]
     },
     "execution_count": 65,
     "metadata": {},
     "output_type": "execute_result"
    }
   ],
   "source": [
    "# It seems that random forest regressor has the best score\n",
    "# Let's do a grid search to find the optimal parameters\n",
    "from sklearn.model_selection import GridSearchCV\n",
    "param = {'n_estimators':range(10,200,5), 'criterion':('mse', 'mae'), 'random_state':[0]}\n",
    "gs = GridSearchCV(rf, param, scoring='neg_mean_absolute_error')\n",
    "gs.fit(X_train, y_train)"
   ]
  },
  {
   "cell_type": "code",
   "execution_count": 66,
   "metadata": {},
   "outputs": [
    {
     "data": {
      "text/plain": [
       "-3110.648263441421"
      ]
     },
     "execution_count": 66,
     "metadata": {},
     "output_type": "execute_result"
    }
   ],
   "source": [
    "gs.best_score_"
   ]
  },
  {
   "cell_type": "code",
   "execution_count": 67,
   "metadata": {},
   "outputs": [
    {
     "data": {
      "text/plain": [
       "{'criterion': 'mse', 'n_estimators': 150, 'random_state': 0}"
      ]
     },
     "execution_count": 67,
     "metadata": {},
     "output_type": "execute_result"
    }
   ],
   "source": [
    "gs.best_params_"
   ]
  },
  {
   "cell_type": "code",
   "execution_count": 68,
   "metadata": {},
   "outputs": [
    {
     "name": "stdout",
     "output_type": "stream",
     "text": [
      "146980384.298255\n",
      "0.556677888028854\n",
      "-35828985.71851291\n"
     ]
    }
   ],
   "source": [
    "#With the best parameters.\n",
    "rf = RandomForestRegressor(n_estimators=150, random_state=0)\n",
    "rf.fit(X_train,y_train)\n",
    "pred_rf = rf.predict(X_test)\n",
    "print(mean_squared_error(y_test,pred_rf)) \n",
    "print(r2_score(y_test, pred_rf))\n",
    "print(cross_val_score(rf, X_train, y_train, cv=10, scoring='neg_mean_squared_error').mean())"
   ]
  },
  {
   "cell_type": "code",
   "execution_count": 69,
   "metadata": {},
   "outputs": [],
   "source": [
    "# Lets save this model:\n",
    "import pickle\n",
    "\n",
    "# open a file, where you ant to store the data\n",
    "file = open('../models/best_forest.pkl', 'wb')\n",
    "\n",
    "# dump information to that file\n",
    "pickle.dump(gs, file)\n",
    "\n",
    "# close the file\n",
    "file.close()"
   ]
  },
  {
   "cell_type": "code",
   "execution_count": 24,
   "metadata": {},
   "outputs": [],
   "source": [
    "##How to open:\n",
    "# rf_pkl = open('../models/best_forest.pkl', 'rb')\n",
    "# best_forest = pickle.load(rf_pkl)"
   ]
  },
  {
   "cell_type": "code",
   "execution_count": null,
   "metadata": {},
   "outputs": [],
   "source": []
  }
 ],
 "metadata": {
  "kernelspec": {
   "display_name": "Python 3",
   "language": "python",
   "name": "python3"
  },
  "language_info": {
   "codemirror_mode": {
    "name": "ipython",
    "version": 3
   },
   "file_extension": ".py",
   "mimetype": "text/x-python",
   "name": "python",
   "nbconvert_exporter": "python",
   "pygments_lexer": "ipython3",
   "version": "3.8.3"
  }
 },
 "nbformat": 4,
 "nbformat_minor": 4
}
